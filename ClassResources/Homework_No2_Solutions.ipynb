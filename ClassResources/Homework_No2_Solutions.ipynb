{
 "cells": [
  {
   "cell_type": "markdown",
   "metadata": {},
   "source": [
    "## PHYS 513 Computational Physics\n",
    "### Homework 2 Solutions\n",
    "\n",
    "Chapter 5 problems: 3, 5, 6, 7, 8, 9, 10, 12, 14"
   ]
  },
  {
   "cell_type": "code",
   "execution_count": null,
   "metadata": {},
   "outputs": [],
   "source": [
    "%matplotlib inline"
   ]
  },
  {
   "cell_type": "markdown",
   "metadata": {},
   "source": [
    "---\n",
    "#### Exercise 5.3:\n",
    "Consider the integral\n",
    "\n",
    "$$𝐸(𝑥)=∫_0^x e^{−𝑡^2}𝑑𝑡.$$\n",
    " \n",
    "a) Write a program to calculate  𝐸(𝑥)  for values of  𝑥  from 0 to 3 in steps of 0.1. Choose for yourself what method you will use for performing the integral and a suitable number of slices.\n",
    "\n",
    "b) When you are convinced your program is working, extend it further to make a graph of  𝐸(𝑥)  as a function of  𝑥 . If you want to remind yourself of how to make a graph, you should consult Section 3.1, starting of page 88.\n",
    "\n",
    "Note that there is no known way to perform this particular integral analytically, so numerical approaches are the only way forward."
   ]
  },
  {
   "cell_type": "code",
   "execution_count": 1,
   "metadata": {},
   "outputs": [
    {
     "data": {
      "image/png": "[encoded data removed]",
      "text/plain": [
       "<Figure size 432x288 with 1 Axes>"
      ]
     },
     "metadata": {
      "needs_background": "light"
     },
     "output_type": "display_data"
    }
   ],
   "source": [
    "# Example solution\n",
    "\n",
    "import numpy as np\n",
    "import matplotlib.pylab as plt\n",
    "\n",
    "def f(t):\n",
    "    return np.exp(-t*t)\n",
    "\n",
    "xmin = 0.0\n",
    "xmax = 3.0\n",
    "steps = 30\n",
    "deltax = (xmax-xmin)/steps  \n",
    "N = 1000\n",
    "E = 0.0\n",
    "xpoints = np.linspace(xmin,xmax,steps+1)\n",
    "\n",
    "# Trapezoidal Rule to integrate between sample points\n",
    "\n",
    "ypoints = []\n",
    "for x in xpoints:   # Integrate from zero each time\n",
    "    h = (x - xmin)/N\n",
    "    E = 0.5*h*(f(xmin)+f(x))    # first/last points weight = 1/2\n",
    "    for k in range(1,N):\n",
    "        E += h*f(xmin+k*h)\n",
    "    ypoints.append(E)\n",
    "    \n",
    "    \n",
    "plt.plot(xpoints,ypoints,label='Calculated')\n",
    "plt.xlabel('x')\n",
    "plt.ylabel('E(x)')\n",
    "plt.ylim(0.0,1.0)\n",
    "plt.title('Gaussian error function')\n",
    "\n",
    "\n",
    "# Check:\n",
    "# SciPy erf is normalized with 2/sqrt(pi), remove this for plot\n",
    "\n",
    "from scipy.special import erf\n",
    "\n",
    "plt.plot(xpoints,erf(xpoints)*np.sqrt(np.pi)/2,'ro',ms=3,label=\"SciPy Erf\")\n",
    "plt.legend()\n",
    "plt.show()\n"
   ]
  },
  {
   "cell_type": "markdown",
   "metadata": {},
   "source": [
    "----\n",
    "#### Exercise 5.5: Error on Simpson's Rule\n",
    "\n",
    "Following the same line of argument that led to Eq. (5.28), show that the error on an integral evaluated using Simpson's rule is given, to leading order in $h$, by Eq. (5.29).\n",
    "\n",
    "**Solution**:  The error on Simpson's rule goes like the fourth power of the step size, so for a Simpson's rule estimate $I_1$ of an integral with exact value $I$, using step size $h_1$, we have \n",
    "\n",
    "$$I = I_1 + ch_1^4$$ \n",
    "\n",
    "for some constant $c$.  If we now half the step size to $h_2 = \\frac{1}{2}h_1$ and make a new estimate $I_2$ of the integral, then we have\n",
    "\n",
    "$$I = I_2 + ch_2^4$$.\n",
    "\n",
    "Equating the two expressions for $I$ and making use of $h_1 = 2h_2$ we get \n",
    "\n",
    "$$I_1 + 16 ch^4_2 = I_2 + ch_2^4,$$\n",
    "\n",
    "which can be rearranged to give the error on $I_2$,\n",
    "\n",
    "$$\\epsilon_2 = ch_2^4 = \\frac{1}{15}(I_2 - I_1),$$\n",
    "\n",
    "in agreement with Eq. (5.29)"
   ]
  },
  {
   "cell_type": "markdown",
   "metadata": {},
   "source": [
    "---\n",
    "#### Exercise 5.6: \n",
    "\n",
    "Write a program, or modify an earlier one, to once more calculate\n",
    "the value of the integral $\\int_0^2 (x^4 - 2x + 1) \\> dx$ from\n",
    "Example (5.28), using the trapezoidal rule with $20$ slices, but this time\n",
    "have the program also print an estimate of the error on the result,\n",
    "calculated using the method of Eq. (5.28).  To do this you will need to\n",
    "evaluate the integral twice, once with $N_1=10$ slices and then again with\n",
    "$N_2=20$ slices.  Then Eq. (5.28) gives the error.  How does the error\n",
    "calculated in this manner compare with a direct computation of the error as\n",
    "the difference between your value for the integral and the true value\n",
    "of 4.4?  Why do the two not agree perfectly?"
   ]
  },
  {
   "cell_type": "code",
   "execution_count": 2,
   "metadata": {},
   "outputs": [
    {
     "name": "stdout",
     "output_type": "stream",
     "text": [
      "I1: 4.506560 \n",
      "I2: 4.426660\n",
      "Estimated error = 0.026633\n",
      "Actual error = 0.026660\n"
     ]
    }
   ],
   "source": [
    "# Example program\n",
    "\n",
    "def f(x):\n",
    "    return x**4 - 2*x + 1\n",
    "\n",
    "N1 = 10\n",
    "N2 = 20\n",
    "a = 0.0\n",
    "b = 2.0\n",
    "h1 = (b-a)/N1\n",
    "h2 = (b-a)/N2\n",
    "\n",
    "s = 0.5*(f(a)+f(b))\n",
    "for k in range(1,N1):\n",
    "    s += f(a+k*h1)\n",
    "I1 = h1*s\n",
    "\n",
    "s = 0.5*(f(a)+f(b))\n",
    "for k in range(1,N2):\n",
    "    s += f(a+k*h2)\n",
    "I2 = h2*s\n",
    "\n",
    "print(f\"I1: {I1:.6f} \\nI2: {I2:.6f}\")\n",
    "print(f\"Estimated error = {abs(I1-I2)/3:.6f}\")\n",
    "print(f\"Actual error = {abs(I2-4.4):.6f}\")"
   ]
  },
  {
   "cell_type": "markdown",
   "metadata": {},
   "source": [
    "**Discussion**: The estimated error agrees well with the true error, but not exactly, since both I1 and I2 are *estimates* of the integral."
   ]
  },
  {
   "cell_type": "markdown",
   "metadata": {},
   "source": [
    "---\n",
    "#### Exercise 5.7:\n",
    "\n",
    "Consider the integral\n",
    "$$\n",
    "I = \\int_0^1 \\sin^2 \\sqrt{100 x} \\> dx\n",
    "$$\n",
    "\n",
    "a) Write a program that uses the adaptive trapezoidal rule method of\n",
    "  Section 5.3 and Eq. (5.34) to calculate the value of this integral to an\n",
    "  approximate accuracy of $\\epsilon=10^{-6}$ (i.e., correct to six digits\n",
    "  after the decimal point).  Start with one single integration slice and\n",
    "  work up from there to two, four, eight, and so forth.  Have your program\n",
    "  print out the number of slices, its estimate of the integral, and its\n",
    "  estimate of the error on the integral, for each value of the number of\n",
    "  slices~$N$, until the target accuracy is reached.  (Hint: You should find\n",
    "  the result is around $I=0.45$.)\n",
    "  \n",
    "b) Now modify your program to evaluate the same integral using the Romberg integration technique.  Have your program print out a triangular table of values, as on page 161, of all the Romberg estimates of the integral.  Calculate the error on your estimates using Eq. (5.49) and again continue the calculation until you reach an accuracy of $\\epsilon = 10^{-6}$.  You should find that the Romberg method reaches the required accuracy considerably faster than the trapezoidal rule alone."
   ]
  },
  {
   "cell_type": "code",
   "execution_count": 3,
   "metadata": {},
   "outputs": [
    {
     "name": "stdout",
     "output_type": "stream",
     "text": [
      "N =    1  I = 0.1479795\n",
      "N =    2  I = 0.3252319  err = 0.0590841\n",
      "N =    4  I = 0.5122829  err = 0.0623503\n",
      "N =    8  I = 0.4029974  err = 0.0364285\n",
      "N =   16  I = 0.4301034  err = 0.0090353\n",
      "N =   32  I = 0.4484147  err = 0.0061038\n",
      "N =   64  I = 0.4539129  err = 0.0018328\n",
      "N =  128  I = 0.4553485  err = 0.0004785\n",
      "N =  256  I = 0.4557113  err = 0.0001209\n",
      "N =  512  I = 0.4558022  err = 0.0000303\n",
      "N = 1024  I = 0.4558249  err = 0.0000076\n",
      "N = 2048  I = 0.4558306  err = 0.0000019\n",
      "N = 4096  I = 0.4558321  err = 0.0000005\n"
     ]
    }
   ],
   "source": [
    "# 5.7a Example program\n",
    "\n",
    "import numpy as np\n",
    "\n",
    "def f(x):\n",
    "    return (np.sin(np.sqrt(100*x)))**2\n",
    "\n",
    "# Constants\n",
    "\n",
    "target = 1.e-6  # Target accuracy\n",
    "a = 0.0\n",
    "b = 1.0\n",
    "N = 1\n",
    "h = (b-a)/N\n",
    "\n",
    "# Calculate and print first approximation to the integral\n",
    "I1 = 0.5*h* (f(a) + f(b))\n",
    "\n",
    "print(f\"N = {N:4}  I = {I1:.7f}\")\n",
    "\n",
    "# Main Loop\n",
    "err = 1.0\n",
    "while abs(err) > target:\n",
    "    # Calc new estimate with h-> h/2,  N -> 2N\n",
    "    I2 = I1/2        # accounts for new smaller slice size h\n",
    "    h /= 2\n",
    "    N *= 2\n",
    "    for k in range(1,N,2):\n",
    "        I2 += h*f(a+k*h)\n",
    "        \n",
    "    err = abs(I2-I1)/3\n",
    "    \n",
    "    I1 = I2\n",
    "    \n",
    "    #print results as we go\n",
    "    print(f\"N = {N:4}  I = {I2:.7f}  err = {err:.7f}\")"
   ]
  },
  {
   "cell_type": "code",
   "execution_count": 4,
   "metadata": {},
   "outputs": [
    {
     "data": {
      "text/plain": [
       "'%.6f'"
      ]
     },
     "execution_count": 4,
     "metadata": {},
     "output_type": "execute_result"
    }
   ],
   "source": [
    "# set precision for output\n",
    "%precision 6"
   ]
  },
  {
   "cell_type": "code",
   "execution_count": 5,
   "metadata": {},
   "outputs": [
    {
     "name": "stdout",
     "output_type": "stream",
     "text": [
      "N =  1   R =  [0.147979]\n",
      "N =  2   R =  [0.325232 0.384316]\n",
      "N =  4   R =  [0.512283 0.574633 0.587321]\n",
      "N =  8   R =  [0.402997 0.366569 0.352698 0.348974]\n",
      "N =  16   R =  [0.430103 0.439139 0.443977 0.445426 0.445804]\n",
      "N =  32   R =  [0.448415 0.454518 0.455544 0.455727 0.455768 0.455777]\n",
      "N =  64   R =  [0.453913 0.455746 0.455828 0.455832 0.455832 0.455832 0.455832]\n"
     ]
    }
   ],
   "source": [
    "# 5.7b Example Program - Romberg\n",
    "\n",
    "import numpy as np\n",
    "\n",
    "def f(x):\n",
    "    return (np.sin(np.sqrt(100*x)))**2\n",
    "\n",
    "# Constants\n",
    "\n",
    "target = 1.e-6  # Target accuracy\n",
    "a = 0.0\n",
    "b = 1.0\n",
    "N = 1\n",
    "h = (b-a)/N\n",
    "\n",
    "# Calc and print first approx to integral\n",
    "I1 = 0.5*h*(f(a) + f(b))\n",
    "R1 = np.array([I1])\n",
    "print(\"N = \",N,\"  R = \",R1)\n",
    "\n",
    "# main loop\n",
    "err = 1.0\n",
    "row = 1\n",
    "while abs(err) > target:\n",
    "\n",
    "    # calc new trapezoidal estimate\n",
    "    h /= 2\n",
    "    I2 = I1/2\n",
    "    for k in range(N):\n",
    "        I2 += h*f(a+(2*k+1)*h)\n",
    "    \n",
    "    # Calc new Romberg estimate\n",
    "    row += 1\n",
    "    R2 = np.empty(row)\n",
    "    R2[0] = I2\n",
    "    for m in range(1,row):\n",
    "        err = (R2[m-1]-R1[m-1]) / (4**m - 1)\n",
    "        R2[m] = R2[m-1] + err\n",
    "    \n",
    "    # update variables for next round\n",
    "    N *= 2\n",
    "    I1 = I2\n",
    "    R1 = R2\n",
    "    \n",
    "    #print results so far\n",
    "    print(\"N = \",N,\"  R = \",R1)"
   ]
  },
  {
   "cell_type": "markdown",
   "metadata": {},
   "source": [
    "---\n",
    "#### Exercise 5.8:\n",
    "\n",
    "Write a program that uses the adaptive Simpson's rule method of Section 5.3 and Eqs (5.35) to (5.39) to calculate the same integral as in Exercise 5.7, again to an approximate accuracy of $\\epsilon = 10^{-6}$.  Starting this time with two integration slices, work up from there to four, eight, and so forth, printing out the results at each step until the required accuracy is reached.  You should find you reach that accuracy for a significantlyly smaller number of slices than with the trapezoidal rule calculation in part (a) fo 5.7, but a somewhat larger number than with the Romberg integration of part (b)."
   ]
  },
  {
   "cell_type": "code",
   "execution_count": 6,
   "metadata": {},
   "outputs": [
    {
     "name": "stdout",
     "output_type": "stream",
     "text": [
      "N =    4  I = 0.5746332  err = 0.0126878\n",
      "N =    8  I = 0.3665690  err = 0.0138709\n",
      "N =   16  I = 0.4391387  err = 0.0048380\n",
      "N =   32  I = 0.4545184  err = 0.0010253\n",
      "N =   64  I = 0.4557457  err = 0.0000818\n",
      "N =  128  I = 0.4558270  err = 0.0000054\n",
      "N =  256  I = 0.4558322  err = 0.0000003\n"
     ]
    }
   ],
   "source": [
    "# Example program 5.8\n",
    "\n",
    "import numpy as np\n",
    "\n",
    "def f(x):\n",
    "    return (np.sin(np.sqrt(100*x)))**2\n",
    "\n",
    "# Constants\n",
    "\n",
    "target = 1.e-6  # Target accuracy\n",
    "a = 0.0\n",
    "b = 1.0\n",
    "N = 2\n",
    "h = (b-a)/N\n",
    "\n",
    "# Calc integral for N=2\n",
    "S = (f(a)+f(b))/3\n",
    "T = 2*f(a+h)/3\n",
    "I1 = h*(S+2*T)\n",
    "\n",
    "# Calc integral for N=4\n",
    "h /= 2\n",
    "S += T\n",
    "T = 2*(f(a+h) + f(a+3*h))/3\n",
    "I2 = h*(S+2*T)\n",
    "\n",
    "# calc the error\n",
    "err = abs(I2-I1)/15\n",
    "N = 4\n",
    "print(f\"N = {N:4}  I = {I2:.7f}  err = {err:.7f}\")\n",
    "\n",
    "# Main loop\n",
    "while err >= target:\n",
    "    \n",
    "    # calc new estimate of the integral\n",
    "    N *= 2\n",
    "    h /= 2\n",
    "    I1 = I2\n",
    "    S += T\n",
    "    T = 0\n",
    "    for k in range(1,N,2):\n",
    "        T += 2*f(a+k*h)/3\n",
    "    I2 = h*(S+2*T)\n",
    "    \n",
    "    # calc new estimate of error\n",
    "    err = abs(I2-I1)/15\n",
    "    print(f\"N = {N:4}  I = {I2:.7f}  err = {err:.7f}\")"
   ]
  },
  {
   "cell_type": "markdown",
   "metadata": {},
   "source": [
    "---\n",
    "#### Exercise 5.9\n",
    "\n",
    "Debye's theory of solids gives the heat capacity of a solid at\n",
    "temperature $T$ to be\n",
    "$$\n",
    "C_V = 9V\\rho k_B \\biggl( {T\\over\\theta_D} \\biggr)^3 \\int_0^{\\theta_D/T}\n",
    "      {x^4 {\\rm e}^x\\over({\\rm e}^x-1)^2}\\> dx,\n",
    "$$\n",
    "where $V$ is the volume of the solid, $\\rho$~is the number density of\n",
    "atoms, $k_B$ is Boltzmann's constant, and $\\theta_D$ is the so-called\n",
    "*Debye temperature*, a property of solids that depends on their\n",
    "density and speed of sound.\n",
    "\n",
    "\n",
    "a) Write a Python function `cv(T)` that calculates $C_V$ for a\n",
    "  given value of the temperature, for a sample consisting of 1000 cubic\n",
    "  centimeters of solid aluminum, which has a number density of\n",
    "  $\\rho=6.022\\times10^{28}\\,\\mathrm{m}^{-3}$ and a Debye temperature of\n",
    "  $\\theta_D=428\\,$K.  Use Gaussian quadrature to evaluate the integral,\n",
    "  with $N=50$ sample points.\n",
    "  \n",
    "b) Use your function to make a graph of the heat capacity as a function\n",
    "  of temperature from $T=5\\,$K to $T=500\\,$K."
   ]
  },
  {
   "cell_type": "code",
   "execution_count": 7,
   "metadata": {},
   "outputs": [
    {
     "data": {
      "image/png": "[encoded data removed]",
      "text/plain": [
       "<Figure size 432x288 with 1 Axes>"
      ]
     },
     "metadata": {
      "needs_background": "light"
     },
     "output_type": "display_data"
    }
   ],
   "source": [
    "# Example program 5.9\n",
    "\n",
    "import numpy as np\n",
    "import matplotlib.pyplot as plt\n",
    "from gaussxw import gaussxw\n",
    "\n",
    "\n",
    "f = lambda x: x**4 * np.exp(x)/np.expm1(x)**2   # expm1(x) = exp(x)-1\n",
    "\n",
    "V = 0.001      # Volume in m^3\n",
    "rho = 6.022e28 # number density of aluminum\n",
    "thetaD = 428.0 # Debye Temp of aluminum\n",
    "kB = 1.38065e-23 # Boltzman's constant\n",
    "N = 50\n",
    "x,w = gaussxw(N)\n",
    "\n",
    "# Integrand\n",
    "def f(x):\n",
    "    return (x**4)*np.exp(x)/np.expm1(x)**2   # expm1 = (exp(x)-1)\n",
    "\n",
    "# Function to compute Cv using Gaussian quadrature\n",
    "def cv(T):\n",
    "    a = 0\n",
    "    b = thetaD/T\n",
    "    xp = 0.5*(b+a) + 0.5*(b-a)*x\n",
    "    wp = 0.5*(b-a)*w\n",
    "    s = 0.0\n",
    "    for k in range(N):\n",
    "        s += wp[k]*f(xp[k])\n",
    "    return 9*V*rho*kB*((T/thetaD)**3)*s\n",
    "\n",
    "tpoints = np.linspace(5,500,500)\n",
    "ypoints = np.empty(len(tpoints))\n",
    "for i in range(len(tpoints)):\n",
    "    ypoints[i] = cv(tpoints[i])\n",
    "\n",
    "\n",
    "\n",
    "plt.plot(tpoints,ypoints)\n",
    "plt.xlabel('Temperature [K]')\n",
    "plt.ylabel('Heat Capacity')\n",
    "plt.title('Heat Capacity of aluminum')\n",
    "plt.show()"
   ]
  },
  {
   "cell_type": "markdown",
   "metadata": {},
   "source": [
    "---\n",
    "#### Exercise 5.10: Period of an anharmonic oscillator\n",
    "\n",
    "One way to calculate the motion of an oscillator is to write down the equation for conservation of energy in the system.  If the particle has mass $m$ and position $x$, then the total energy is equal to the sum of the kinetic and potential energies thus:\n",
    "\n",
    "$$E = \\frac{1}{2} m\\left({\\frac{dx}{dt}}\\right)^2 + V(x).$$\n",
    "\n",
    "Assume the potential is symmetric about $x=0$ with amplitude $a$.  We have $E=V(a)$.\n",
    "\n",
    "**a)** When particle reaches origin for the first time, it has gone through one quarter of a period of the oscillator.  By rearranging the equation above for $dx/dt$ and then integrating with respect to $t$ from 0 to $T/4$, show that the period $T$ is given by \n",
    "\n",
    "$$T = \\sqrt{8m}\\int_0^a \\frac{dx}{\\sqrt{V(a) -V(x)}}$$\n",
    "\n",
    "**Solution to part a**: Rearranging and putting $E=V(a)$, we get\n",
    "\n",
    "$$\\sqrt{\\frac{1}{2}m}\\frac{dx/dt}{-\\sqrt{V(a) -V(x)}} = 1$$\n",
    "Notice that we take the negative square root, since $dx/dt$ is clearly negative.  Now we integrate with respect to $t$ on both sides up to $t = T/4$, noting that $x(t=0) = a$ and $x(t=\\frac{1}{4}T) = 0$, to get\n",
    "\n",
    "$$-\\sqrt{\\frac{1}{2}m}\\int_a^0 \\frac{dx}{\\sqrt{V(a) -V(x)}} = \\frac{1}{4}T.$$\n",
    "\n",
    "Then the required result follows straigtforwardly.\n",
    "\n",
    "**b)** Suppose that the potential is $V(x) = x^4$ and the mass is $m=1$.  Write a Python function that calculates the period of the oscillator for a given amplitude $a$ using Gauussian quadrature with $N=20$ points, then use your function to make a graph of the period for amplitudes ranging from $a=0$ to $a=2$.\n"
   ]
  },
  {
   "cell_type": "code",
   "execution_count": 8,
   "metadata": {},
   "outputs": [
    {
     "data": {
      "image/png": "[encoded data removed]",
      "text/plain": [
       "<Figure size 432x288 with 1 Axes>"
      ]
     },
     "metadata": {
      "needs_background": "light"
     },
     "output_type": "display_data"
    }
   ],
   "source": [
    "# example program for 5.10b\n",
    "\n",
    "import numpy as np\n",
    "from gaussxw import gaussxw\n",
    "import matplotlib.pyplot as plt\n",
    "\n",
    "m = 1.0\n",
    "N = 20\n",
    "x,w = gaussxw(N)\n",
    "\n",
    "def V(x):\n",
    "    return x**4\n",
    "\n",
    "# function to calculate period\n",
    "def T(a):\n",
    "    E = V(a)\n",
    "    \n",
    "    xp = 0.5*a*(x+1)\n",
    "    wp = 0.5*a*w\n",
    "    s = 0.0\n",
    "    for i in range(N):\n",
    "        s += wp[i]/np.sqrt(E-V(xp[i]))\n",
    "        \n",
    "    return np.sqrt(8*m)*s\n",
    "\n",
    "# Main program\n",
    "apoints = np.arange(1.e-6,2,0.02)     # zero causes 1/0 problem - nan\n",
    "tpoints = np.empty(len(apoints))\n",
    "for i in range(len(apoints)):\n",
    "    tpoints[i] = T(apoints[i])\n",
    "plt.plot(apoints,tpoints)\n",
    "plt.xlabel(\"Amplitude\")\n",
    "plt.ylabel(\"Period\")\n",
    "plt.ylim(0,50)\n",
    "plt.show()"
   ]
  },
  {
   "cell_type": "markdown",
   "metadata": {},
   "source": [
    "5.10c  The period decreases with greater amplitude.  A harmonic osciallator has a constant period because even though it travels farther wheen the ampoitude is greater is also travels faster, because the initial potential energy is greater for greater amplitude.  The same is true in the anharmonic oscillator above, but the effect is even more pronounced because the potential function is steeper at the edges.  This means that for a given amplitude the oscillator travels even faster than a harmonic oscillator would, and hence the period actually gets shorter when we increase the amplitude.  Conversely when we decrease the ampoitude to near zero, the osciallator travels slower than the corresponding harmonic oscillator and takes longer and longer per cycle."
   ]
  },
  {
   "cell_type": "markdown",
   "metadata": {},
   "source": [
    "---\n",
    "#### Exercise 5.12: The Stefan-Boltzman Constant\n",
    "\n",
    "The Planck theory of thermal radiation tells us that in the (angular) frequency interval $\\omega$ to $\\omega+d\\omega$, a blackbody of unit area radiates an amount of thermal energy per second equal to $I(\\omega)\\,d\\omega$, where\n",
    "\n",
    "$$I(\\omega) = \\frac{\\hbar}{4\\pi^2c^2}\\frac{\\omega^3}{(e^{\\hbar\\omega/kT}-1)}$$\n",
    "\n",
    "**a)** Show that the total energy per unit area radiated by a blackbody is\n",
    "\n",
    "$$W = \\frac{k^4T^4}{4\\pi^2c^2\\hbar^3}\\int_0^\\infty\\frac{x^3}{e^x-1}dx$$\n",
    "\n",
    "**Solution to (a)**\n",
    "Making the substitutions $x = \\hbar \\omega / kT$ and $dx = (\\hbar/kT) dx$ the result \n",
    "\n",
    "$$I(x)dx = \\frac{k^4T^4}{4\\pi^2c^2\\hbar^3}\\frac{x^3}{(e^x-1)}dx$$\n",
    "\n",
    "is straightforward.\n",
    "\n",
    "**b-c)** Write a program to evaluate the integral and compare with the published value.\n",
    "\n",
    "Note program outputs 5.67036e-8, which agrees well with the NIST value.\n"
   ]
  },
  {
   "cell_type": "code",
   "execution_count": 9,
   "metadata": {},
   "outputs": [
    {
     "name": "stdout",
     "output_type": "stream",
     "text": [
      "5.6703668160832686e-08\n",
      "NIST Value:  5.670367e-08\n"
     ]
    }
   ],
   "source": [
    "# 5.12 Stefan-Boltzman Constant\n",
    "\n",
    "# example program for 5.10b\n",
    "\n",
    "import numpy as np\n",
    "from gaussxw import gaussxwab\n",
    "from scipy.constants import Boltzmann, hbar, c, pi, sigma\n",
    "\n",
    "def f(x):\n",
    "    return (x**3)*np.exp(-x)/(1-np.exp(-x))\n",
    "\n",
    "a = 0.0   # using z = x / (1+x) since infinite range\n",
    "b = 1.0\n",
    "N = 100\n",
    "\n",
    "z,w = gaussxwab(N,a,b)\n",
    "\n",
    "s = 0.\n",
    "for k in range(N):\n",
    "    s += w[k]*f(z[k]/(1-z[k]))/(1-z[k])**2\n",
    "\n",
    "print(s*Boltzmann**4/(4*pi**2*c**2 * hbar**3))\n",
    "print(\"NIST Value: \",sigma)"
   ]
  },
  {
   "cell_type": "markdown",
   "metadata": {},
   "source": [
    "---\n",
    "#### Exercise 5:14: Gravitational pull of a uniform sheet (process works for sheets of stars, too)\n",
    "\n",
    "A uniform sheet of metal is floating motionless in space.  The sheet is 10 m on a side and of negligible thickness.  It has a mass of 10 metric tonnes.\n",
    "\n",
    "**a)** Consider the gravitational force due to the plate felt by a point mass of 1 kg a distance $z$ from the center of the square, in the direction perpendicular to the sheet, as shown in the figure in the text.  Show that the component of the force along the $z$-axis is \n",
    "\n",
    "$$F_z = G\\sigma z\\int_{-L/2}^{L/2}\\int_{-L/2}^{L/2}\\frac{dx\\,dy}{(x^2+y^2+z^2)^{3/2}},$$\n",
    "\n",
    "where $G$ is the gravitational constant, and $\\sigma$ is the mass surface density of the sheet.\n",
    "\n",
    "**Solution to (a)**: \n",
    "By symmetry we know the acceleration will be perpendicular to the $z=0$ plane. The element of mass is $dm=\\sigma\\,dx\\,dy$ and the magnitude of it's gravitational pull is $G\\,dm/r^2 = G\\sigma\\,dx\\,dy/r^2$.   The component of force in the $z$-direction is this quantity multiplied by the cosine of the angle to the $z$-axis, which is $z/r$, so the $z$ element of forced is\n",
    "\n",
    "$$dF_z = G\\sigma\\frac{z}{r^3}\\,dx\\,dy.$$\n",
    "\n",
    "Using $r=\\sqrt{x^2+y^2+z^2}$ and integrating over the area of the who'e plate then gives the quoted result.\n",
    "\n",
    "**b)** Write a program to calulate and plot the force as a function of $z$ from $z=0$ to $z=10$ m.  For the double integral use (double) Gaussian quadrature, as in Eq. (5.82) with 100 sample points along each axis."
   ]
  },
  {
   "cell_type": "code",
   "execution_count": 11,
   "metadata": {},
   "outputs": [
    {
     "data": {
      "image/png": "[encoded data removed]",
      "text/plain": [
       "<Figure size 432x288 with 1 Axes>"
      ]
     },
     "metadata": {
      "needs_background": "light"
     },
     "output_type": "display_data"
    }
   ],
   "source": [
    "# 5.14b Sample program\n",
    "\n",
    "from gaussxw import gaussxwab\n",
    "import numpy as np\n",
    "import matplotlib.pyplot as plt\n",
    "from numba import jit   # this speeds things up!\n",
    "\n",
    "zmin = 0.0\n",
    "zmax = 1.0\n",
    "zstep = 0.001\n",
    "N=1000\n",
    "L = 10.0\n",
    "G = 6.674e-11\n",
    "sigma = 100.0\n",
    "\n",
    "x,w = gaussxwab(N,-L/2,L/2)\n",
    "\n",
    "# perform the double integral\n",
    "@jit(nopython=True)\n",
    "def f(z):\n",
    "    s = 0.0\n",
    "    for i in range(N):\n",
    "        for j in range(N):\n",
    "            r32 = (x[i]**2 + x[j]**2 + z**2)**1.5\n",
    "            s += w[i]*w[j]/r32\n",
    "    return G*sigma*z*s\n",
    "\n",
    "# Main Program\n",
    "zpoints = np.arange(zmin,zmax,zstep)\n",
    "fpoints = np.empty(len(zpoints))\n",
    "for i in range(len(zpoints)):\n",
    "    fpoints[i] = f(zpoints[i])\n",
    "plt.plot(zpoints,fpoints)\n",
    "plt.show()"
   ]
  },
  {
   "cell_type": "markdown",
   "metadata": {},
   "source": [
    "**c)** In the code above, I set $L=10$ and only sampled $z$ over the range 0 to 1.  This approximates an infinate plane.  From Gauss' law, we *should* see a constant force, but we don't.  The drop to zero as $z\\rightarrow0$ is an artifact that arises because when we are close to the plane we are dominated by the attraction of the nearby parts of the plate, but there are no points near the origin.  We can increase the number of points, and this helps, but doesn't eliminate the problem.  Note Gaussian quadrature is probably not the best technique for this problem since it has *few* points in the middle of the integration domain.  "
   ]
  },
  {
   "cell_type": "code",
   "execution_count": null,
   "metadata": {},
   "outputs": [],
   "source": []
  },
  {
   "cell_type": "code",
   "execution_count": null,
   "metadata": {},
   "outputs": [],
   "source": []
  }
 ],
 "metadata": {
  "kernelspec": {
   "display_name": "Python 3",
   "language": "python",
   "name": "python3"
  },
  "language_info": {
   "codemirror_mode": {
    "name": "ipython",
    "version": 3
   },
   "file_extension": ".py",
   "mimetype": "text/x-python",
   "name": "python",
   "nbconvert_exporter": "python",
   "pygments_lexer": "ipython3",
   "version": "3.7.4"
  }
 },
 "nbformat": 4,
 "nbformat_minor": 4
}

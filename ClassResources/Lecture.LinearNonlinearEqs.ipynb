{
 "cells": [
  {
   "cell_type": "markdown",
   "metadata": {},
   "source": [
    "## Chapter 6\n",
    "\n",
    "Problem 6.1\n",
    "\n",
    "### Exercise 6.1:  A circuit of resistors\n",
    "\n",
    "Consider the following circuit of\n",
    "resistors:\n",
    "\n",
    "<img src=\"resistor.png\" alt=\"drawing\" width=\"200\"/>\n",
    "\n",
    "All the resistors have the same resistance $R$.  The power rail at the top\n",
    "is at voltage $V_+=5\\,$V.  What are the other four voltages, $V_1$\n",
    "to $V_4$?\n",
    "\n",
    "To answer this question we use Ohm's law and the Kirchhoff current\n",
    "law, which says that the total net current flow out of (or into) any\n",
    "junction in a circuit must be zero.  Thus for the junction at\n",
    "voltage~$V_1$, for instance, we have\n",
    "\\begin{equation}\n",
    "{V_1-V_2\\over R} + {V_1-V_3\\over R} + {V_1-V_4\\over R} + {V_1-V_+\\over R}\n",
    "= 0,\n",
    "\\end{equation}\n",
    "or equivalently\n",
    "\\begin{equation}\n",
    "4V_1 - V_2 - V_3 - V_4 = V_+.\n",
    "\\end{equation}\n",
    "\n",
    "A) Write similar equations for the other three junctions with unknown\n",
    "voltages.\n",
    "\n",
    "For the junction at voltage $V_2$:\n",
    "\\begin{equation}\n",
    "{V_2-V_1\\over R} + {V_2-V_3\\over R} + {V_2-0\\over R}\n",
    "= 0,\n",
    "\\end{equation}\n",
    "or equivalently\n",
    "\\begin{equation}\n",
    "-V_1 + 3V_2 - V_4 = 0.\n",
    "\\end{equation}\n",
    "\n",
    "For the junction at voltage $V_3$:\n",
    "\\begin{equation}\n",
    "{V_3-V_1\\over R} + {V_3-V_4\\over R} + {V_3-V_+\\over R} \n",
    "= 0,\n",
    "\\end{equation}\n",
    "or equivalently\n",
    "\\begin{equation}\n",
    "-V_1 + 3V_3 - V_4 = V_+.\n",
    "\\end{equation}\n",
    "\n",
    "For the junction at voltage $V_4$:\n",
    "\\begin{equation}\n",
    "{V_4-V_1\\over R} + {V_4-V_2\\over R} + {V_4-V_3\\over R} + {V_4-0\\over R}\n",
    "= 0,\n",
    "\\end{equation}\n",
    "or equivalently\n",
    "\\begin{equation}\n",
    "-V_1 - V_2 - V_3 + 4V_4 = 0.\n",
    "\\end{equation}\n",
    "\n",
    "\n",
    "\n",
    "\n",
    "B) Write a program to solve the four resulting equations using Gaussian\n",
    "  elimination and hence find the four voltages (or you can modify a program\n",
    "  you already have, such as the program *gausselim.py* in\n",
    "  Example~6.1).\n",
    "\n"
   ]
  },
  {
   "cell_type": "code",
   "execution_count": 2,
   "metadata": {},
   "outputs": [
    {
     "name": "stdout",
     "output_type": "stream",
     "text": [
      "Solutions:\n",
      "\n",
      "V_1: 3.000\n",
      "V_2: 1.667\n",
      "V_3: 3.333\n",
      "V_4: 2.000\n"
     ]
    }
   ],
   "source": [
    "# Modified gausslim.py\n",
    "from numpy import array,empty\n",
    "\n",
    "A = array([[ 4, -1, -1, -1 ],\n",
    "           [-1,  3,  0, -1 ],\n",
    "           [-1,  0,  3, -1 ],\n",
    "           [-1, -1, -1,  4 ]], float)\n",
    "v = array([ 5, 0, 5, 0 ],float)\n",
    "N = len(v)\n",
    "\n",
    "# Gaussian elimination\n",
    "for m in range(N):\n",
    "\n",
    "    # Divide by the diagonal element\n",
    "    div = A[m,m]\n",
    "    A[m,:] /= div\n",
    "    v[m] /= div\n",
    "\n",
    "    # Now subtract from the lower rows\n",
    "    for i in range(m+1,N):\n",
    "        mult = A[i,m]\n",
    "        A[i,:] -= mult*A[m,:]\n",
    "        v[i] -= mult*v[m]\n",
    "\n",
    "# Backsubstitution\n",
    "x = empty(N,float)\n",
    "for m in range(N-1,-1,-1):\n",
    "    x[m] = v[m]\n",
    "    for i in range(m+1,N):\n",
    "        x[m] -= A[m,i]*x[i]\n",
    "\n",
    "print(\"Solutions:\\n\")\n",
    "for i in range(0,4):\n",
    "    print(f\"V_{i+1:1}: {x[i]:.3f}\")"
   ]
  },
  {
   "cell_type": "code",
   "execution_count": 3,
   "metadata": {},
   "outputs": [
    {
     "name": "stdout",
     "output_type": "stream",
     "text": [
      "Solutions:\n",
      "\n",
      "V_1: 3.000\n",
      "V_2: 1.667\n",
      "V_3: 3.333\n",
      "V_4: 2.000\n"
     ]
    }
   ],
   "source": [
    "# Exercise 6.4 - same thing but use 'solve'\n",
    "\n",
    "import numpy as np\n",
    "from numpy.linalg import solve\n",
    "\n",
    "A = np.matrix([[4,-1,-1,-1],[-1,3,0,-1],[-1,0,3,-1],[-1,-1,-1,4]])\n",
    "v = np.array([5,0,5,0])\n",
    "\n",
    "x = solve(A,v)\n",
    "print(\"Solutions:\\n\")\n",
    "for i in range(0,4):\n",
    "    print(f\"V_{i+1:1}: {x[i]:.3f}\")"
   ]
  },
  {
   "cell_type": "markdown",
   "metadata": {},
   "source": [
    "## Springs Example 6.2\n",
    "\n"
   ]
  },
  {
   "cell_type": "code",
   "execution_count": 4,
   "metadata": {},
   "outputs": [
    {
     "data": {
      "image/png": "[encoded data removed]",
      "text/plain": [
       "<Figure size 432x288 with 1 Axes>"
      ]
     },
     "metadata": {
      "needs_background": "light"
     },
     "output_type": "display_data"
    }
   ],
   "source": [
    "%matplotlib inline\n",
    "from numpy import zeros,empty\n",
    "from pylab import plot,show\n",
    "\n",
    "# Constants\n",
    "N = 26\n",
    "C = 1.0\n",
    "m = 1.0\n",
    "k = 6.0\n",
    "omega = 2.0\n",
    "alpha = 2*k-m*omega*omega\n",
    "\n",
    "# Set up the initial values of the arrays\n",
    "A = zeros([N,N],float)\n",
    "for i in range(N-1):\n",
    "    A[i,i] = alpha\n",
    "    A[i,i+1] = -k\n",
    "    A[i+1,i] = -k\n",
    "A[0,0] = alpha - k\n",
    "A[N-1,N-1] = alpha - k\n",
    "\n",
    "v = zeros(N,float)\n",
    "v[0] = C\n",
    "\n",
    "# Perform the Gaussian elimination\n",
    "for i in range(N-1):\n",
    "\n",
    "    # Divide row i by its diagonal element\n",
    "    A[i,i+1] /= A[i,i]\n",
    "    v[i] /= A[i,i]\n",
    "\n",
    "    # Now subtract it from the next row down\n",
    "    A[i+1,i+1] -= A[i+1,i]*A[i,i+1]\n",
    "    v[i+1] -= A[i+1,i]*v[i]\n",
    "\n",
    "# Divide the last element of v by the last diagonal element\n",
    "v[N-1] /= A[N-1,N-1]\n",
    "\n",
    "# Backsubstitution\n",
    "x = empty(N,float)\n",
    "x[N-1] = v[N-1]\n",
    "for i in range(N-2,-1,-1):\n",
    "    x[i] = v[i] - A[i,i+1]*x[i+1]\n",
    "\n",
    "# Make a plot using both dots and lines\n",
    "plot(x)\n",
    "plot(x,\"ko\")\n",
    "show()"
   ]
  },
  {
   "cell_type": "code",
   "execution_count": 5,
   "metadata": {},
   "outputs": [
    {
     "data": {
      "image/png": "[encoded data removed]",
      "text/plain": [
       "<Figure size 432x288 with 1 Axes>"
      ]
     },
     "metadata": {
      "needs_background": "light"
     },
     "output_type": "display_data"
    }
   ],
   "source": [
    "# Simpler example\n",
    "\n",
    "from numpy import empty,zeros\n",
    "from banded import banded\n",
    "from pylab import plot,show\n",
    "\n",
    "# Constants\n",
    "N = 26\n",
    "C = 1.0\n",
    "m = 1.0\n",
    "k = 6.0\n",
    "omega = 2.0\n",
    "alpha = 2*k-m*omega*omega\n",
    "\n",
    "# Set up the initial values of the arrays\n",
    "A = empty([3,N],float)\n",
    "for i in range(N):\n",
    "    A[0,i] = -k\n",
    "    A[1,i] = alpha\n",
    "    A[2,i] = -k\n",
    "A[1,0] = alpha - k\n",
    "A[1,N-1] = alpha - k\n",
    "\n",
    "v = zeros(N,float)\n",
    "v[0] = C\n",
    "\n",
    "# Solve the equations\n",
    "x = banded(A,v,1,1)\n",
    "\n",
    "# Make a plot using both dots and lines\n",
    "plot(x)\n",
    "plot(x,\"ko\")\n",
    "show()"
   ]
  },
  {
   "cell_type": "code",
   "execution_count": 6,
   "metadata": {},
   "outputs": [
    {
     "data": {
      "image/png": "[encoded data removed]",
      "text/plain": [
       "<Figure size 432x288 with 1 Axes>"
      ]
     },
     "metadata": {
      "needs_background": "light"
     },
     "output_type": "display_data"
    }
   ],
   "source": [
    "# This time use scipy linalg solve banded\n",
    "\n",
    "from numpy import empty,zeros\n",
    "from scipy.linalg import solve_banded\n",
    "from pylab import plot,show\n",
    "\n",
    "# Constants\n",
    "N = 26\n",
    "C = 1.0\n",
    "m = 1.0\n",
    "k = 6.0\n",
    "omega = 2.0\n",
    "alpha = 2*k-m*omega*omega\n",
    "\n",
    "# Set up the initial values of the arrays\n",
    "A = empty([3,N],float)\n",
    "for i in range(N):\n",
    "    A[0,i] = -k\n",
    "    A[1,i] = alpha\n",
    "    A[2,i] = -k\n",
    "A[1,0] = alpha - k\n",
    "A[1,N-1] = alpha - k\n",
    "B = zeros(N)\n",
    "B[0] = C\n",
    "\n",
    "x = solve_banded((1,1),A,B)  # one row above diag, one row below\n",
    "\n",
    "# Make a plot using both dots and lines\n",
    "plot(x)\n",
    "plot(x,\"ko\")\n",
    "show()"
   ]
  },
  {
   "cell_type": "markdown",
   "metadata": {},
   "source": [
    "---\n",
    "### Exercise 6.6\n",
    "\n",
    "Starting with either the program springs.py on page 237 or\n",
    "springsb.py on page~238, remove the code that makes a graph of the\n",
    "results and replace it with code that creates an animation of the masses as\n",
    "they vibrate back and forth, their displacements relative to their resting\n",
    "positions being given by the real part of Eq. (6.53).  For clarity, assume\n",
    "that the resting positions are two units apart in a horizontal line.  At a\n",
    "minimum your animation should show each of the individual masses, perhaps\n",
    "as small spheres.  (Spheres of radius about 0.2 or 0.3 seem to work well.)"
   ]
  },
  {
   "cell_type": "code",
   "execution_count": null,
   "metadata": {},
   "outputs": [
    {
     "data": {
      "text/html": [
       "<div id=\"glowscript\" class=\"glowscript\"></div>"
      ],
      "text/plain": [
       "<IPython.core.display.HTML object>"
      ]
     },
     "metadata": {},
     "output_type": "display_data"
    },
    {
     "data": {
      "application/javascript": [
       "if (typeof Jupyter !== \"undefined\") { window.__context = { glowscript_container: $(\"#glowscript\").removeAttr(\"id\")};}else{ element.textContent = ' ';}"
      ],
      "text/plain": [
       "<IPython.core.display.Javascript object>"
      ]
     },
     "metadata": {},
     "output_type": "display_data"
    },
    {
     "data": {
      "application/javascript": [
       "if (typeof Jupyter !== \"undefined\") {require.undef(\"nbextensions/vpython_libraries/glow.min\");}else{element.textContent = ' ';}"
      ],
      "text/plain": [
       "<IPython.core.display.Javascript object>"
      ]
     },
     "metadata": {},
     "output_type": "display_data"
    },
    {
     "data": {
      "application/javascript": [
       "if (typeof Jupyter !== \"undefined\") {require.undef(\"nbextensions/vpython_libraries/glowcomm\");}else{element.textContent = ' ';}"
      ],
      "text/plain": [
       "<IPython.core.display.Javascript object>"
      ]
     },
     "metadata": {},
     "output_type": "display_data"
    },
    {
     "data": {
      "application/javascript": [
       "if (typeof Jupyter !== \"undefined\") {require.undef(\"nbextensions/vpython_libraries/jquery-ui.custom.min\");}else{element.textContent = ' ';}"
      ],
      "text/plain": [
       "<IPython.core.display.Javascript object>"
      ]
     },
     "metadata": {},
     "output_type": "display_data"
    },
    {
     "data": {
      "application/javascript": [
       "if (typeof Jupyter !== \"undefined\") {require([\"nbextensions/vpython_libraries/glow.min\"], function(){console.log(\"GLOW LOADED\");});}else{element.textContent = ' ';}"
      ],
      "text/plain": [
       "<IPython.core.display.Javascript object>"
      ]
     },
     "metadata": {},
     "output_type": "display_data"
    },
    {
     "data": {
      "application/javascript": [
       "if (typeof Jupyter !== \"undefined\") {require([\"nbextensions/vpython_libraries/glowcomm\"], function(){console.log(\"GLOWCOMM LOADED\");});}else{element.textContent = ' ';}"
      ],
      "text/plain": [
       "<IPython.core.display.Javascript object>"
      ]
     },
     "metadata": {},
     "output_type": "display_data"
    },
    {
     "data": {
      "application/javascript": [
       "if (typeof Jupyter !== \"undefined\") {require([\"nbextensions/vpython_libraries/jquery-ui.custom.min\"], function(){console.log(\"JQUERY LOADED\");});}else{element.textContent = ' ';}"
      ],
      "text/plain": [
       "<IPython.core.display.Javascript object>"
      ]
     },
     "metadata": {},
     "output_type": "display_data"
    }
   ],
   "source": [
    "# This time use scipy linalg solve banded\n",
    "\n",
    "from numpy import empty,zeros\n",
    "from scipy.linalg import solve_banded\n",
    "from pylab import plot,show\n",
    "from vpython import *\n",
    "\n",
    "# Constants\n",
    "N = 26\n",
    "C = 1.0\n",
    "m = 1.0\n",
    "k = 6.0\n",
    "omega = 2.0\n",
    "alpha = 2*k-m*omega*omega\n",
    "R = 0.3\n",
    "\n",
    "framerate = 30\n",
    "\n",
    "# Set up the initial values of the arrays\n",
    "A = empty([3,N],float)\n",
    "for i in range(N):\n",
    "    A[0,i] = -k\n",
    "    A[1,i] = alpha\n",
    "    A[2,i] = -k\n",
    "A[1,0] = alpha - k\n",
    "A[1,N-1] = alpha - k\n",
    "B = zeros(N)\n",
    "B[0] = C\n",
    "\n",
    "x = solve_banded((1,1),A,B)  # one row above diag, one row below\n",
    "\n",
    "# make the visualization\n",
    "s = empty(N,sphere)\n",
    "mu = empty(N)\n",
    "for i in range(N):\n",
    "    mu[i] = 2*i-N\n",
    "    s[i] = sphere(pos=vector(mu[i,],0,0),radius=R)\n",
    "t = 0.0\n",
    "while True:\n",
    "    rate(framerate)\n",
    "    t += 1/framerate\n",
    "    for i in range(N):\n",
    "        s[i].pos = vector(mu[i]+x[i]*cos(omega*t),0,0)"
   ]
  },
  {
   "cell_type": "code",
   "execution_count": null,
   "metadata": {},
   "outputs": [],
   "source": []
  },
  {
   "cell_type": "code",
   "execution_count": null,
   "metadata": {},
   "outputs": [],
   "source": []
  },
  {
   "cell_type": "code",
   "execution_count": null,
   "metadata": {},
   "outputs": [],
   "source": []
  }
 ],
 "metadata": {
  "kernelspec": {
   "display_name": "Python 3",
   "language": "python",
   "name": "python3"
  },
  "language_info": {
   "codemirror_mode": {
    "name": "ipython",
    "version": 3
   },
   "file_extension": ".py",
   "mimetype": "text/x-python",
   "name": "python",
   "nbconvert_exporter": "python",
   "pygments_lexer": "ipython3",
   "version": "3.6.9"
  }
 },
 "nbformat": 4,
 "nbformat_minor": 4
}
